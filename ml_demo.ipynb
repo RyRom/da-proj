{
 "cells": [
  {
   "cell_type": "markdown",
   "metadata": {},
   "source": [
    "# Predicting MLB Slugging Percentage\n",
    "\n",
    "### April 26, 2025"
   ]
  },
  {
   "cell_type": "markdown",
   "metadata": {},
   "source": [
    "Import packages"
   ]
  },
  {
   "cell_type": "code",
   "execution_count": 142,
   "metadata": {},
   "outputs": [],
   "source": [
    "import numpy as np\n",
    "import pandas as pd\n",
    "import seaborn as sns\n",
    "import matplotlib.pyplot as plt"
   ]
  },
  {
   "cell_type": "markdown",
   "metadata": {},
   "source": [
    "Load datasets"
   ]
  },
  {
   "cell_type": "code",
   "execution_count": 143,
   "metadata": {},
   "outputs": [],
   "source": [
    "df = pd.read_csv('Data/stats.csv')"
   ]
  },
  {
   "cell_type": "markdown",
   "metadata": {},
   "source": [
    "## Exploratory Data Analysis (EDA)\n",
    "\n",
    "#### Introduction to Data\n",
    "\n",
    "This data was downloaded from MLB's official statistics branch, Baseball Savant (https://baseballsavant.mlb.com/). This tool allows users to select certain seasons, qualifications, and which statistics you want to see. Some of the statistics included in this dataset are\n",
    "\n",
    "* general hitting statistics like plate appearances and batting average\n",
    "* bat tracking stastics like average bat speed\n",
    "* exit velocity and launch angle\n",
    "\n",
    "The data is from 2015 - 2024, and players with at least 50 plate appearances are included. Many players will have multiple entries since they play multiple seasons, but this should not matter when trying to predict slugging percentage."
   ]
  },
  {
   "cell_type": "code",
   "execution_count": 144,
   "metadata": {},
   "outputs": [
    {
     "name": "stdout",
     "output_type": "stream",
     "text": [
      "(5336, 30)\n"
     ]
    }
   ],
   "source": [
    "print(df.shape)"
   ]
  },
  {
   "cell_type": "code",
   "execution_count": 145,
   "metadata": {},
   "outputs": [
    {
     "data": {
      "text/plain": [
       "Index(['last_name, first_name', 'player_id', 'year', 'pa', 'home_run', 'walk',\n",
       "       'k_percent', 'bb_percent', 'batting_avg', 'slg_percent',\n",
       "       'on_base_percent', 'b_rbi', 'xba', 'xslg', 'woba', 'xwoba', 'xobp',\n",
       "       'avg_swing_speed', 'fast_swing_rate', 'blasts_contact', 'blasts_swing',\n",
       "       'squared_up_contact', 'squared_up_swing', 'exit_velocity_avg',\n",
       "       'launch_angle_avg', 'sweet_spot_percent', 'barrel_batted_rate',\n",
       "       'hard_hit_percent', 'whiff_percent', 'swing_percent'],\n",
       "      dtype='object')"
      ]
     },
     "execution_count": 145,
     "metadata": {},
     "output_type": "execute_result"
    }
   ],
   "source": [
    "df.columns"
   ]
  },
  {
   "cell_type": "code",
   "execution_count": 146,
   "metadata": {},
   "outputs": [
    {
     "name": "stdout",
     "output_type": "stream",
     "text": [
      "last_name, first_name     object\n",
      "player_id                  int64\n",
      "year                       int64\n",
      "pa                         int64\n",
      "home_run                   int64\n",
      "walk                       int64\n",
      "k_percent                float64\n",
      "bb_percent               float64\n",
      "batting_avg              float64\n",
      "slg_percent              float64\n",
      "on_base_percent          float64\n",
      "b_rbi                      int64\n",
      "xba                      float64\n",
      "xslg                     float64\n",
      "woba                     float64\n",
      "xwoba                    float64\n",
      "xobp                     float64\n",
      "avg_swing_speed          float64\n",
      "fast_swing_rate          float64\n",
      "blasts_contact           float64\n",
      "blasts_swing             float64\n",
      "squared_up_contact       float64\n",
      "squared_up_swing         float64\n",
      "exit_velocity_avg        float64\n",
      "launch_angle_avg         float64\n",
      "sweet_spot_percent       float64\n",
      "barrel_batted_rate       float64\n",
      "hard_hit_percent         float64\n",
      "whiff_percent            float64\n",
      "swing_percent            float64\n",
      "dtype: object\n"
     ]
    }
   ],
   "source": [
    "print(df.dtypes)"
   ]
  },
  {
   "cell_type": "markdown",
   "metadata": {},
   "source": [
    "#### Data Cleaning & Preprocessing\n",
    "\n",
    "Let's first check for null or missing data."
   ]
  },
  {
   "cell_type": "code",
   "execution_count": 147,
   "metadata": {},
   "outputs": [
    {
     "data": {
      "text/plain": [
       "last_name, first_name       0\n",
       "player_id                   0\n",
       "year                        0\n",
       "pa                          0\n",
       "home_run                    0\n",
       "walk                        0\n",
       "k_percent                   0\n",
       "bb_percent                  0\n",
       "batting_avg                 0\n",
       "slg_percent                 0\n",
       "on_base_percent             0\n",
       "b_rbi                       0\n",
       "xba                         0\n",
       "xslg                        0\n",
       "woba                        0\n",
       "xwoba                       0\n",
       "xobp                        0\n",
       "avg_swing_speed          4306\n",
       "fast_swing_rate          4306\n",
       "blasts_contact           4306\n",
       "blasts_swing             4306\n",
       "squared_up_contact       4306\n",
       "squared_up_swing         4306\n",
       "exit_velocity_avg           0\n",
       "launch_angle_avg            0\n",
       "sweet_spot_percent          0\n",
       "barrel_batted_rate          0\n",
       "hard_hit_percent            0\n",
       "whiff_percent               0\n",
       "swing_percent               0\n",
       "dtype: int64"
      ]
     },
     "execution_count": 147,
     "metadata": {},
     "output_type": "execute_result"
    }
   ],
   "source": [
    "df.isna().sum()"
   ]
  },
  {
   "cell_type": "markdown",
   "metadata": {},
   "source": [
    "There are a number of missing values for a few of the statistics. This is due to which stats are tracked given the year. The entire dataset only back to 2015, however, certain advanced metrics related to bat tracking were not collected this entire time. The bat tracking metrics are only available starting from the second half of the 2023 season. Due to this, I will create multiple dataframes to separate the data containing these metrics from the rest, and compare how well the models work at the end to see how important these are for slugging percentage."
   ]
  },
  {
   "cell_type": "code",
   "execution_count": 148,
   "metadata": {},
   "outputs": [
    {
     "data": {
      "text/plain": [
       "last_name, first_name    0\n",
       "player_id                0\n",
       "year                     0\n",
       "pa                       0\n",
       "home_run                 0\n",
       "walk                     0\n",
       "k_percent                0\n",
       "bb_percent               0\n",
       "batting_avg              0\n",
       "slg_percent              0\n",
       "on_base_percent          0\n",
       "b_rbi                    0\n",
       "xba                      0\n",
       "xslg                     0\n",
       "woba                     0\n",
       "xwoba                    0\n",
       "xobp                     0\n",
       "avg_swing_speed          0\n",
       "fast_swing_rate          0\n",
       "blasts_contact           0\n",
       "blasts_swing             0\n",
       "squared_up_contact       0\n",
       "squared_up_swing         0\n",
       "exit_velocity_avg        0\n",
       "launch_angle_avg         0\n",
       "sweet_spot_percent       0\n",
       "barrel_batted_rate       0\n",
       "hard_hit_percent         0\n",
       "whiff_percent            0\n",
       "swing_percent            0\n",
       "dtype: int64"
      ]
     },
     "execution_count": 148,
     "metadata": {},
     "output_type": "execute_result"
    }
   ],
   "source": [
    "# Store data with bat tracking metrics\n",
    "df_tracking = df[~df.isna().any(axis=1)]\n",
    "df_tracking.isna().sum()"
   ]
  },
  {
   "cell_type": "markdown",
   "metadata": {},
   "source": [
    "The next concern to address is the number of plate appearances (pa), or the amount of at bats a player had that season."
   ]
  },
  {
   "cell_type": "code",
   "execution_count": 149,
   "metadata": {},
   "outputs": [
    {
     "data": {
      "text/html": [
       "<div>\n",
       "<style scoped>\n",
       "    .dataframe tbody tr th:only-of-type {\n",
       "        vertical-align: middle;\n",
       "    }\n",
       "\n",
       "    .dataframe tbody tr th {\n",
       "        vertical-align: top;\n",
       "    }\n",
       "\n",
       "    .dataframe thead th {\n",
       "        text-align: right;\n",
       "    }\n",
       "</style>\n",
       "<table border=\"1\" class=\"dataframe\">\n",
       "  <thead>\n",
       "    <tr style=\"text-align: right;\">\n",
       "      <th></th>\n",
       "      <th>pa</th>\n",
       "      <th>batting_avg</th>\n",
       "      <th>home_run</th>\n",
       "      <th>slg_percent</th>\n",
       "    </tr>\n",
       "  </thead>\n",
       "  <tbody>\n",
       "    <tr>\n",
       "      <th>count</th>\n",
       "      <td>5336.000000</td>\n",
       "      <td>5336.000000</td>\n",
       "      <td>5336.000000</td>\n",
       "      <td>5336.000000</td>\n",
       "    </tr>\n",
       "    <tr>\n",
       "      <th>mean</th>\n",
       "      <td>314.392616</td>\n",
       "      <td>0.236105</td>\n",
       "      <td>9.978823</td>\n",
       "      <td>0.385226</td>\n",
       "    </tr>\n",
       "    <tr>\n",
       "      <th>std</th>\n",
       "      <td>200.266348</td>\n",
       "      <td>0.047529</td>\n",
       "      <td>9.737093</td>\n",
       "      <td>0.098708</td>\n",
       "    </tr>\n",
       "    <tr>\n",
       "      <th>min</th>\n",
       "      <td>50.000000</td>\n",
       "      <td>0.000000</td>\n",
       "      <td>0.000000</td>\n",
       "      <td>0.000000</td>\n",
       "    </tr>\n",
       "    <tr>\n",
       "      <th>25%</th>\n",
       "      <td>132.000000</td>\n",
       "      <td>0.211000</td>\n",
       "      <td>2.000000</td>\n",
       "      <td>0.329000</td>\n",
       "    </tr>\n",
       "    <tr>\n",
       "      <th>50%</th>\n",
       "      <td>274.000000</td>\n",
       "      <td>0.242000</td>\n",
       "      <td>7.000000</td>\n",
       "      <td>0.391000</td>\n",
       "    </tr>\n",
       "    <tr>\n",
       "      <th>75%</th>\n",
       "      <td>484.250000</td>\n",
       "      <td>0.267000</td>\n",
       "      <td>15.000000</td>\n",
       "      <td>0.448000</td>\n",
       "    </tr>\n",
       "    <tr>\n",
       "      <th>max</th>\n",
       "      <td>753.000000</td>\n",
       "      <td>0.400000</td>\n",
       "      <td>62.000000</td>\n",
       "      <td>0.755000</td>\n",
       "    </tr>\n",
       "  </tbody>\n",
       "</table>\n",
       "</div>"
      ],
      "text/plain": [
       "                pa  batting_avg     home_run  slg_percent\n",
       "count  5336.000000  5336.000000  5336.000000  5336.000000\n",
       "mean    314.392616     0.236105     9.978823     0.385226\n",
       "std     200.266348     0.047529     9.737093     0.098708\n",
       "min      50.000000     0.000000     0.000000     0.000000\n",
       "25%     132.000000     0.211000     2.000000     0.329000\n",
       "50%     274.000000     0.242000     7.000000     0.391000\n",
       "75%     484.250000     0.267000    15.000000     0.448000\n",
       "max     753.000000     0.400000    62.000000     0.755000"
      ]
     },
     "execution_count": 149,
     "metadata": {},
     "output_type": "execute_result"
    }
   ],
   "source": [
    "df[['pa', 'batting_avg', 'home_run', 'slg_percent']].describe()"
   ]
  },
  {
   "cell_type": "markdown",
   "metadata": {},
   "source": [
    "The MLB lists minimum qualifications that must be met for players to qualify for certain leaderboards. This prevents a player for example who only had 1 at bat the entire season and got a hit from leading the entire MLB with a 1.0 batting average. For hitters, this minimum amount is 3.1 PA's a game. There are a number of specifics to this calculation, such as when teams play one more or one fewer games, when players are active or not, as well as a specific rookie standard."
   ]
  },
  {
   "cell_type": "code",
   "execution_count": 150,
   "metadata": {},
   "outputs": [],
   "source": [
    "# Bar chart showing players that fall in buckets of certain PAs"
   ]
  },
  {
   "cell_type": "markdown",
   "metadata": {},
   "source": [
    "To keep things simple, I will apply a blanket qualification by multiplying 3.1 by the number of games each team plays, 162. This will be a cutoff value that I will also use to separate the data to see if this minimum amount has significant impact in our model's performance."
   ]
  },
  {
   "cell_type": "code",
   "execution_count": 151,
   "metadata": {},
   "outputs": [
    {
     "name": "stdout",
     "output_type": "stream",
     "text": [
      "Our PA cutoff value: 503\n"
     ]
    }
   ],
   "source": [
    "# Setting cutoff value\n",
    "# Adding one and casting int to \"round up\" without importing math\n",
    "pa_cutoff = int(3.1 * 162 + 1)\n",
    "print(f'Our PA cutoff value: {pa_cutoff}')"
   ]
  },
  {
   "cell_type": "code",
   "execution_count": 152,
   "metadata": {},
   "outputs": [
    {
     "data": {
      "text/html": [
       "<div>\n",
       "<style scoped>\n",
       "    .dataframe tbody tr th:only-of-type {\n",
       "        vertical-align: middle;\n",
       "    }\n",
       "\n",
       "    .dataframe tbody tr th {\n",
       "        vertical-align: top;\n",
       "    }\n",
       "\n",
       "    .dataframe thead th {\n",
       "        text-align: right;\n",
       "    }\n",
       "</style>\n",
       "<table border=\"1\" class=\"dataframe\">\n",
       "  <thead>\n",
       "    <tr style=\"text-align: right;\">\n",
       "      <th></th>\n",
       "      <th>pa</th>\n",
       "      <th>batting_avg</th>\n",
       "      <th>home_run</th>\n",
       "      <th>slg_percent</th>\n",
       "    </tr>\n",
       "  </thead>\n",
       "  <tbody>\n",
       "    <tr>\n",
       "      <th>count</th>\n",
       "      <td>1229.000000</td>\n",
       "      <td>1229.000000</td>\n",
       "      <td>1229.000000</td>\n",
       "      <td>1229.000000</td>\n",
       "    </tr>\n",
       "    <tr>\n",
       "      <th>mean</th>\n",
       "      <td>605.694060</td>\n",
       "      <td>0.266531</td>\n",
       "      <td>21.852726</td>\n",
       "      <td>0.450853</td>\n",
       "    </tr>\n",
       "    <tr>\n",
       "      <th>std</th>\n",
       "      <td>60.320837</td>\n",
       "      <td>0.027142</td>\n",
       "      <td>10.028069</td>\n",
       "      <td>0.063866</td>\n",
       "    </tr>\n",
       "    <tr>\n",
       "      <th>min</th>\n",
       "      <td>503.000000</td>\n",
       "      <td>0.168000</td>\n",
       "      <td>0.000000</td>\n",
       "      <td>0.273000</td>\n",
       "    </tr>\n",
       "    <tr>\n",
       "      <th>25%</th>\n",
       "      <td>551.000000</td>\n",
       "      <td>0.248000</td>\n",
       "      <td>14.000000</td>\n",
       "      <td>0.407000</td>\n",
       "    </tr>\n",
       "    <tr>\n",
       "      <th>50%</th>\n",
       "      <td>605.000000</td>\n",
       "      <td>0.265000</td>\n",
       "      <td>21.000000</td>\n",
       "      <td>0.445000</td>\n",
       "    </tr>\n",
       "    <tr>\n",
       "      <th>75%</th>\n",
       "      <td>655.000000</td>\n",
       "      <td>0.284000</td>\n",
       "      <td>29.000000</td>\n",
       "      <td>0.491000</td>\n",
       "    </tr>\n",
       "    <tr>\n",
       "      <th>max</th>\n",
       "      <td>753.000000</td>\n",
       "      <td>0.354000</td>\n",
       "      <td>62.000000</td>\n",
       "      <td>0.701000</td>\n",
       "    </tr>\n",
       "  </tbody>\n",
       "</table>\n",
       "</div>"
      ],
      "text/plain": [
       "                pa  batting_avg     home_run  slg_percent\n",
       "count  1229.000000  1229.000000  1229.000000  1229.000000\n",
       "mean    605.694060     0.266531    21.852726     0.450853\n",
       "std      60.320837     0.027142    10.028069     0.063866\n",
       "min     503.000000     0.168000     0.000000     0.273000\n",
       "25%     551.000000     0.248000    14.000000     0.407000\n",
       "50%     605.000000     0.265000    21.000000     0.445000\n",
       "75%     655.000000     0.284000    29.000000     0.491000\n",
       "max     753.000000     0.354000    62.000000     0.701000"
      ]
     },
     "execution_count": 152,
     "metadata": {},
     "output_type": "execute_result"
    }
   ],
   "source": [
    "df_min = df[df['pa'] >= pa_cutoff]\n",
    "df_min[['pa', 'batting_avg', 'home_run', 'slg_percent']].describe()"
   ]
  },
  {
   "cell_type": "markdown",
   "metadata": {},
   "source": [
    "When comparing this dataset to the one including all players above 50 PA's, we can see the average statistics like batting average and slugging percentage do go up, with a sharp increase in discrete measurements like home runs. We will do the same specification to the dataset containing only rows with bat tracking metrics as well."
   ]
  },
  {
   "cell_type": "code",
   "execution_count": 153,
   "metadata": {},
   "outputs": [
    {
     "name": "stdout",
     "output_type": "stream",
     "text": [
      "                pa  batting_avg    home_run  slg_percent\n",
      "count  1030.000000  1030.000000  1030.00000  1030.000000\n",
      "mean    346.541748     0.236545    10.82233     0.385516\n",
      "std     195.993013     0.038318     9.58084     0.083411\n",
      "min      50.000000     0.077000     0.00000     0.129000\n",
      "25%     168.000000     0.214000     3.00000     0.332000\n",
      "50%     336.000000     0.239500     8.00000     0.384000\n",
      "75%     508.000000     0.262000    16.00000     0.441000\n",
      "max     753.000000     0.380000    58.00000     0.717000\n",
      "               pa  batting_avg    home_run  slg_percent\n",
      "count  262.000000   262.000000  262.000000   262.000000\n",
      "mean   610.793893     0.259958   21.751908     0.440195\n",
      "std     62.255526     0.025313    9.348279     0.061175\n",
      "min    503.000000     0.196000    1.000000     0.296000\n",
      "25%    556.000000     0.244250   15.000000     0.399000\n",
      "50%    614.000000     0.258500   21.000000     0.436000\n",
      "75%    657.000000     0.275000   26.000000     0.469750\n",
      "max    753.000000     0.354000   58.000000     0.701000\n"
     ]
    }
   ],
   "source": [
    "df_tracking_min = df_tracking[df_tracking['pa'] >= pa_cutoff]\n",
    "print(df_tracking[['pa', 'batting_avg', 'home_run', 'slg_percent']].describe())\n",
    "print(df_tracking_min[['pa', 'batting_avg', 'home_run', 'slg_percent']].describe())"
   ]
  },
  {
   "cell_type": "code",
   "execution_count": null,
   "metadata": {},
   "outputs": [],
   "source": []
  }
 ],
 "metadata": {
  "kernelspec": {
   "display_name": ".venv",
   "language": "python",
   "name": "python3"
  },
  "language_info": {
   "codemirror_mode": {
    "name": "ipython",
    "version": 3
   },
   "file_extension": ".py",
   "mimetype": "text/x-python",
   "name": "python",
   "nbconvert_exporter": "python",
   "pygments_lexer": "ipython3",
   "version": "3.13.2"
  }
 },
 "nbformat": 4,
 "nbformat_minor": 2
}
